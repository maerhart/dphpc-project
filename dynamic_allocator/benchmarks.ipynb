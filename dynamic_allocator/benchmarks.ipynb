{
 "cells": [
  {
   "cell_type": "code",
   "execution_count": 1,
   "id": "86ed0e95",
   "metadata": {},
   "outputs": [],
   "source": [
    "import pandas as pd\n",
    "import numpy as np\n",
    "import sys\n",
    "import os\n",
    "import matplotlib.pyplot as plt\n",
    "import subprocess\n",
    "from tqdm.notebook import tqdm"
   ]
  },
  {
   "cell_type": "markdown",
   "id": "a1c39fbf",
   "metadata": {},
   "source": [
    "## Individual Runtimes of Malloc, work, free"
   ]
  },
  {
   "cell_type": "code",
   "execution_count": 2,
   "id": "bc91ef9f",
   "metadata": {},
   "outputs": [],
   "source": [
    "# parameters\n",
    "n_runs = 10\n",
    "n_warmup = 10\n",
    "n_blocks = 100\n",
    "n_threads_per_block = 1024\n",
    "n_floats = 20\n",
    "\n",
    "# workloads\n",
    "workloads = {\n",
    "    \"sum_reduce\": 0,\n",
    "    \"prod_reduce\": 1,\n",
    "    \"max_reduce\": 2,\n",
    "    \"pair_prod\" : 3,\n",
    "    \"sum_all_prod\": 4\n",
    "}"
   ]
  },
  {
   "cell_type": "code",
   "execution_count": 3,
   "id": "ed7d05b0",
   "metadata": {},
   "outputs": [],
   "source": [
    "def get_mean_std_individual_workloads(n_blocks, n_threads_per_block, n_floats, n_runs, n_warmup, workload):\n",
    "    cmd_res = subprocess.run([\"./a.out\", *[str(x) for x in [n_blocks, n_threads_per_block, n_runs, n_warmup, n_floats, workload]]], capture_output=True, text=True)\n",
    "    cmd_res.check_returncode()\n",
    "    measurements = [np.fromstring(x, sep=\" \") for x in cmd_res.stdout.split(\"\\n\")[:9]]\n",
    "    \n",
    "    res = []\n",
    "    for m in measurements:\n",
    "        res.append(np.mean(m))\n",
    "        res.append(np.std(m))\n",
    "\n",
    "    return res"
   ]
  },
  {
   "cell_type": "code",
   "execution_count": 9,
   "id": "2bd5ed44",
   "metadata": {},
   "outputs": [
    {
     "data": {
      "application/vnd.jupyter.widget-view+json": {
       "model_id": "fb016622fa014a2d8d8046d2393435a7",
       "version_major": 2,
       "version_minor": 0
      },
      "text/plain": [
       "  0%|          | 0/49 [00:00<?, ?it/s]"
      ]
     },
     "metadata": {},
     "output_type": "display_data"
    },
    {
     "ename": "ValueError",
     "evalue": "not enough values to unpack (expected 18, got 12)",
     "output_type": "error",
     "traceback": [
      "\u001b[0;31m---------------------------------------------------------------------------\u001b[0m",
      "\u001b[0;31mValueError\u001b[0m                                Traceback (most recent call last)",
      "\u001b[0;32m/tmp/ipykernel_18302/1240497007.py\u001b[0m in \u001b[0;36m<module>\u001b[0;34m\u001b[0m\n\u001b[1;32m     18\u001b[0m                                           n_floats=n_floats, n_runs=n_runs, n_warmup=n_warmup, workload=workload))\n\u001b[1;32m     19\u001b[0m \u001b[0;34m\u001b[0m\u001b[0m\n\u001b[0;32m---> 20\u001b[0;31m \u001b[0mmeans_base_malloc_time\u001b[0m\u001b[0;34m,\u001b[0m \u001b[0mstds_base_malloc_time\u001b[0m\u001b[0;34m,\u001b[0m\u001b[0;31m\\\u001b[0m\u001b[0;34m\u001b[0m\u001b[0;34m\u001b[0m\u001b[0m\n\u001b[0m\u001b[1;32m     21\u001b[0m \u001b[0mmeans_base_work_time\u001b[0m\u001b[0;34m,\u001b[0m \u001b[0mstds_base_work_time\u001b[0m\u001b[0;34m,\u001b[0m\u001b[0;31m\\\u001b[0m\u001b[0;34m\u001b[0m\u001b[0;34m\u001b[0m\u001b[0m\n\u001b[1;32m     22\u001b[0m \u001b[0mmeans_base_free_time\u001b[0m\u001b[0;34m,\u001b[0m \u001b[0mstds_base_free_time\u001b[0m\u001b[0;34m,\u001b[0m\u001b[0;31m\\\u001b[0m\u001b[0;34m\u001b[0m\u001b[0;34m\u001b[0m\u001b[0m\n",
      "\u001b[0;31mValueError\u001b[0m: not enough values to unpack (expected 18, got 12)"
     ]
    },
    {
     "data": {
      "image/png": "[encoded data removed]",
      "text/plain": [
       "<Figure size 1080x360 with 3 Axes>"
      ]
     },
     "metadata": {
      "needs_background": "light"
     },
     "output_type": "display_data"
    }
   ],
   "source": [
    "# parameters\n",
    "n_runs = 10\n",
    "n_warmup = 10\n",
    "n_blocks = 1\n",
    "n_threads_per_block = 64\n",
    "n_floats = 50\n",
    "workload = workloads[\"sum_reduce\"]\n",
    "\n",
    "\n",
    "plt.rcParams['figure.figsize'] = [15, 5]\n",
    "fig, axs = plt.subplots(1, 3)\n",
    "\n",
    "\n",
    "floats = list(range(1, n_floats))\n",
    "results = []\n",
    "for n_floats in tqdm(floats):\n",
    "    results.append(get_mean_std_individual_workloads(n_blocks=n_blocks, n_threads_per_block=n_threads_per_block,\\\n",
    "                                          n_floats=n_floats, n_runs=n_runs, n_warmup=n_warmup, workload=workload))\n",
    "\n",
    "means_base_malloc_time, stds_base_malloc_time,\\\n",
    "means_base_work_time, stds_base_work_time,\\\n",
    "means_base_free_time, stds_base_free_time,\\\n",
    "means_v1_malloc_time, stds_v1_malloc_time,\\\n",
    "means_v1_work_time, stds_v1_work_time,\\\n",
    "means_v1_free_time, stds_v1_free_time,\\\n",
    "means_v4_malloc_time, stds_v4_malloc_time,\\\n",
    "means_v4_work_time, stds_v4_work_time,\\\n",
    "means_v4_free_time, stds_v4_free_time\\\n",
    "= zip(*results)\n",
    "\n",
    "\n",
    "fig.suptitle(\"Parameters:\" \\\n",
    "          + \" blocks: \" + str(n_blocks)\\\n",
    "          + \", threads per block: \" + str(n_threads_per_block)\\\n",
    "          + \", floats allocated per thread: \" + str(n_floats)\\\n",
    "          + \", workload: sum_reduce\"\\\n",
    "          + \", runs, warmup runs: \" + str(n_runs) + \", \" + str(n_warmup))\n",
    "\n",
    "axs[0].set_title(\"Malloc\")\n",
    "axs[0].errorbar(floats, means_base_malloc_time, stds_base_malloc_time, label=\"baseline: Malloc time\")\n",
    "axs[0].errorbar(floats, means_v1_malloc_time, stds_v1_malloc_time, label=\"v1: Malloc time\")\n",
    "axs[0].errorbar(floats, means_v4_malloc_time, stds_v4_malloc_time, label=\"v4: Malloc time\")\n",
    "axs[0].legend()\n",
    "axs[0].set_xlabel(\"#floats\")\n",
    "axs[0].set_ylabel(\"#clock cycles\")\n",
    "\n",
    "axs[1].set_title(\"Work\")\n",
    "axs[1].errorbar(floats, means_base_work_time, stds_base_work_time, label=\"baseline: Work time\")\n",
    "axs[1].errorbar(floats, means_v1_work_time, stds_v1_work_time, label=\"v1: Work time\")\n",
    "axs[1].errorbar(floats, means_v4_work_time, stds_v4_work_time, label=\"v4: Work time\")\n",
    "axs[1].legend()\n",
    "axs[1].set_xlabel(\"#floats\")\n",
    "axs[1].set_ylabel(\"#clock cycles\")\n",
    "\n",
    "axs[2].set_title(\"Free\")\n",
    "axs[2].errorbar(floats, means_base_free_time, stds_base_free_time, label=\"baseline: Free time\")\n",
    "axs[2].errorbar(floats, means_v1_free_time, stds_v1_free_time, label=\"v1: Free time\")\n",
    "axs[2].errorbar(floats, means_v4_free_time, stds_v4_free_time, label=\"v4: Free time\")\n",
    "axs[2].legend()\n",
    "axs[2].set_xlabel(\"#floats\")\n",
    "axs[2].set_ylabel(\"#clock cycles\")\n",
    "\n",
    "plt.show()"
   ]
  }
 ],
 "metadata": {
  "kernelspec": {
   "display_name": "Python [conda env:venv38] *",
   "language": "python",
   "name": "conda-env-venv38-py"
  },
  "language_info": {
   "codemirror_mode": {
    "name": "ipython",
    "version": 3
   },
   "file_extension": ".py",
   "mimetype": "text/x-python",
   "name": "python",
   "nbconvert_exporter": "python",
   "pygments_lexer": "ipython3",
   "version": "3.8.12"
  }
 },
 "nbformat": 4,
 "nbformat_minor": 5
}
