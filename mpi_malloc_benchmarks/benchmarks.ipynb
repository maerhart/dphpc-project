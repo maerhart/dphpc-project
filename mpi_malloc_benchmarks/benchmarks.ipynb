{
 "cells": [
  {
   "cell_type": "code",
   "execution_count": 1,
   "id": "86ed0e95",
   "metadata": {},
   "outputs": [],
   "source": [
    "import pandas as pd\n",
    "import numpy as np\n",
    "import sys\n",
    "import os\n",
    "import matplotlib.pyplot as plt\n",
    "import subprocess as sp\n",
    "from tqdm.notebook import tqdm"
   ]
  },
  {
   "cell_type": "markdown",
   "id": "a1c39fbf",
   "metadata": {},
   "source": [
    "## Individual Runtimes of Malloc, work, free"
   ]
  },
  {
   "cell_type": "markdown",
   "id": "1ea53972",
   "metadata": {},
   "source": [
    "Make sure GPU MPI is built in release mode here (with -DCMAKE_BUILD_TYPE=Release)."
   ]
  },
  {
   "cell_type": "code",
   "execution_count": 27,
   "id": "2fee718c",
   "metadata": {},
   "outputs": [],
   "source": [
    "def compile_benchmark(benchmark, coalescing_enabled):\n",
    "    cmd_res = sp.run(\"cd ../build && GPU_MPI_PROJECT=`pwd`/.. GPU_MPI_MAX_RANKS=2000000 python scripts/gpumpicc.py ../mpi_malloc_benchmarks/\"+benchmark+\".c \" + (\"--coalesce_malloc\" if coalescing_enabled else \"\") + \" -- -o \" + benchmark + (\"_coal\" if coalescing_enabled else \"\"), shell=True)\n",
    "    cmd_res.check_returncode()"
   ]
  },
  {
   "cell_type": "code",
   "execution_count": 57,
   "id": "ed7d05b0",
   "metadata": {},
   "outputs": [],
   "source": [
    "def get_mean_std_individual_workloads(n_blocks, n_threads_per_block, n_runs, n_doubles, workload):\n",
    "    measurements = []\n",
    "    for _ in range(0, n_runs):\n",
    "        cmd_res = sp.run(\"../build/\" + workload + \" \" + str(n_doubles) + \" ---gpumpi -g \" + str(n_blocks) + \" -b \" + str(n_threads_per_block), shell=True, capture_output=True, text=True)\n",
    "        cmd_res.check_returncode()\n",
    "        measurements.append(cmd_res.stdout.split(\"\\n\")[:3])\n",
    "    \n",
    "    measurements = np.array(measurements).astype(float)\n",
    "\n",
    "    mean = np.mean(measurements, axis=0)\n",
    "    std = np.std(measurements, axis=0)\n",
    "    \n",
    "    return (mean, std)"
   ]
  },
  {
   "cell_type": "code",
   "execution_count": null,
   "id": "2bd5ed44",
   "metadata": {
    "scrolled": true
   },
   "outputs": [
    {
     "name": "stderr",
     "output_type": "stream",
     "text": [
      "** Creating AST consumer for: /home/merhart/dphpc-project/build/../mpi_malloc_benchmarks/scalar_product.c\n",
      "Trying to write /home/merhart/dphpc-project/build/../mpi_malloc_benchmarks/scalar_product.c : /home/merhart/dphpc-project/mpi_malloc_benchmarks/scalar_product.c\n",
      "../mpi_malloc_benchmarks/scalar_product.cu(43): warning #550-D: variable \"local_prod\" was set but never used\n",
      "\n",
      "../mpi_malloc_benchmarks/scalar_product.cu(19): warning #177-D: variable \"prod\" was declared but never referenced\n",
      "\n",
      "../mpi_malloc_benchmarks/scalar_product.cu(43): warning #550-D: variable \"local_prod\" was set but never used\n",
      "\n",
      "../mpi_malloc_benchmarks/scalar_product.cu(19): warning #177-D: variable \"prod\" was declared but never referenced\n",
      "\n",
      "../mpi_malloc_benchmarks/scalar_product.cu(43): warning #550-D: variable \"local_prod\" was set but never used\n",
      "\n",
      "../mpi_malloc_benchmarks/scalar_product.cu(19): warning #177-D: variable \"prod\" was declared but never referenced\n",
      "\n",
      "nvlink warning : Stack size for entry function '_Z17__gpu_main_calleriPPcPN7CudaMPI11SharedStateENS1_18ThreadPrivateState7ContextE' cannot be statically determined (target: sm_60)\n",
      "nvlink warning : Stack size for entry function '_Z17__gpu_main_calleriPPcPN7CudaMPI11SharedStateENS1_18ThreadPrivateState7ContextE' cannot be statically determined (target: sm_61)\n",
      "nvlink warning : Stack size for entry function '_Z17__gpu_main_calleriPPcPN7CudaMPI11SharedStateENS1_18ThreadPrivateState7ContextE' cannot be statically determined (target: sm_70)\n",
      "** Creating AST consumer for: /home/merhart/dphpc-project/build/../mpi_malloc_benchmarks/scalar_product.c\n",
      "Trying to write /home/merhart/dphpc-project/build/../mpi_malloc_benchmarks/scalar_product.c : /home/merhart/dphpc-project/mpi_malloc_benchmarks/scalar_product.c\n",
      "../mpi_malloc_benchmarks/scalar_product.cu(41): warning #550-D: variable \"local_prod\" was set but never used\n",
      "\n",
      "../mpi_malloc_benchmarks/scalar_product.cu(17): warning #177-D: variable \"prod\" was declared but never referenced\n",
      "\n",
      "../mpi_malloc_benchmarks/scalar_product.cu(41): warning #550-D: variable \"local_prod\" was set but never used\n",
      "\n",
      "../mpi_malloc_benchmarks/scalar_product.cu(17): warning #177-D: variable \"prod\" was declared but never referenced\n",
      "\n",
      "../mpi_malloc_benchmarks/scalar_product.cu(41): warning #550-D: variable \"local_prod\" was set but never used\n",
      "\n",
      "../mpi_malloc_benchmarks/scalar_product.cu(17): warning #177-D: variable \"prod\" was declared but never referenced\n",
      "\n",
      "nvlink warning : Stack size for entry function '_Z17__gpu_main_calleriPPcPN7CudaMPI11SharedStateENS1_18ThreadPrivateState7ContextE' cannot be statically determined (target: sm_60)\n",
      "nvlink warning : Stack size for entry function '_Z17__gpu_main_calleriPPcPN7CudaMPI11SharedStateENS1_18ThreadPrivateState7ContextE' cannot be statically determined (target: sm_61)\n",
      "nvlink warning : Stack size for entry function '_Z17__gpu_main_calleriPPcPN7CudaMPI11SharedStateENS1_18ThreadPrivateState7ContextE' cannot be statically determined (target: sm_70)\n",
      "** Creating AST consumer for: /home/merhart/dphpc-project/build/../mpi_malloc_benchmarks/bcast.c\n",
      "Trying to write /home/merhart/dphpc-project/build/../mpi_malloc_benchmarks/bcast.c : /home/merhart/dphpc-project/mpi_malloc_benchmarks/bcast.c\n",
      "../mpi_malloc_benchmarks/bcast.cu(20): warning #177-D: variable \"prod_x\" was declared but never referenced\n",
      "\n",
      "../mpi_malloc_benchmarks/bcast.cu(20): warning #177-D: variable \"prod_y\" was declared but never referenced\n",
      "\n",
      "../mpi_malloc_benchmarks/bcast.cu(20): warning #177-D: variable \"prod_x\" was declared but never referenced\n",
      "\n",
      "../mpi_malloc_benchmarks/bcast.cu(20): warning #177-D: variable \"prod_y\" was declared but never referenced\n",
      "\n",
      "../mpi_malloc_benchmarks/bcast.cu(20): warning #177-D: variable \"prod_x\" was declared but never referenced\n",
      "\n",
      "../mpi_malloc_benchmarks/bcast.cu(20): warning #177-D: variable \"prod_y\" was declared but never referenced\n",
      "\n",
      "nvlink warning : Stack size for entry function '_Z17__gpu_main_calleriPPcPN7CudaMPI11SharedStateENS1_18ThreadPrivateState7ContextE' cannot be statically determined (target: sm_60)\n",
      "nvlink warning : Stack size for entry function '_Z17__gpu_main_calleriPPcPN7CudaMPI11SharedStateENS1_18ThreadPrivateState7ContextE' cannot be statically determined (target: sm_61)\n",
      "nvlink warning : Stack size for entry function '_Z17__gpu_main_calleriPPcPN7CudaMPI11SharedStateENS1_18ThreadPrivateState7ContextE' cannot be statically determined (target: sm_70)\n",
      "** Creating AST consumer for: /home/merhart/dphpc-project/build/../mpi_malloc_benchmarks/bcast.c\n",
      "Trying to write /home/merhart/dphpc-project/build/../mpi_malloc_benchmarks/bcast.c : /home/merhart/dphpc-project/mpi_malloc_benchmarks/bcast.c\n",
      "../mpi_malloc_benchmarks/bcast.cu(18): warning #177-D: variable \"prod_x\" was declared but never referenced\n",
      "\n",
      "../mpi_malloc_benchmarks/bcast.cu(18): warning #177-D: variable \"prod_y\" was declared but never referenced\n",
      "\n",
      "../mpi_malloc_benchmarks/bcast.cu(18): warning #177-D: variable \"prod_x\" was declared but never referenced\n",
      "\n",
      "../mpi_malloc_benchmarks/bcast.cu(18): warning #177-D: variable \"prod_y\" was declared but never referenced\n",
      "\n",
      "../mpi_malloc_benchmarks/bcast.cu(18): warning #177-D: variable \"prod_x\" was declared but never referenced\n",
      "\n",
      "../mpi_malloc_benchmarks/bcast.cu(18): warning #177-D: variable \"prod_y\" was declared but never referenced\n",
      "\n",
      "nvlink warning : Stack size for entry function '_Z17__gpu_main_calleriPPcPN7CudaMPI11SharedStateENS1_18ThreadPrivateState7ContextE' cannot be statically determined (target: sm_60)\n",
      "nvlink warning : Stack size for entry function '_Z17__gpu_main_calleriPPcPN7CudaMPI11SharedStateENS1_18ThreadPrivateState7ContextE' cannot be statically determined (target: sm_61)\n",
      "nvlink warning : Stack size for entry function '_Z17__gpu_main_calleriPPcPN7CudaMPI11SharedStateENS1_18ThreadPrivateState7ContextE' cannot be statically determined (target: sm_70)\n",
      "** Creating AST consumer for: /home/merhart/dphpc-project/build/../mpi_malloc_benchmarks/reduce.c\n",
      "Trying to write /home/merhart/dphpc-project/build/../mpi_malloc_benchmarks/reduce.c : /home/merhart/dphpc-project/mpi_malloc_benchmarks/reduce.c\n",
      "../mpi_malloc_benchmarks/reduce.cu(20): warning #177-D: variable \"prod_x\" was declared but never referenced\n",
      "\n",
      "../mpi_malloc_benchmarks/reduce.cu(20): warning #177-D: variable \"prod_y\" was declared but never referenced\n",
      "\n",
      "../mpi_malloc_benchmarks/reduce.cu(20): warning #177-D: variable \"prod_x\" was declared but never referenced\n",
      "\n",
      "../mpi_malloc_benchmarks/reduce.cu(20): warning #177-D: variable \"prod_y\" was declared but never referenced\n",
      "\n",
      "../mpi_malloc_benchmarks/reduce.cu(20): warning #177-D: variable \"prod_x\" was declared but never referenced\n",
      "\n",
      "../mpi_malloc_benchmarks/reduce.cu(20): warning #177-D: variable \"prod_y\" was declared but never referenced\n",
      "\n",
      "nvlink warning : Stack size for entry function '_Z17__gpu_main_calleriPPcPN7CudaMPI11SharedStateENS1_18ThreadPrivateState7ContextE' cannot be statically determined (target: sm_60)\n",
      "nvlink warning : Stack size for entry function '_Z17__gpu_main_calleriPPcPN7CudaMPI11SharedStateENS1_18ThreadPrivateState7ContextE' cannot be statically determined (target: sm_61)\n",
      "nvlink warning : Stack size for entry function '_Z17__gpu_main_calleriPPcPN7CudaMPI11SharedStateENS1_18ThreadPrivateState7ContextE' cannot be statically determined (target: sm_70)\n",
      "** Creating AST consumer for: /home/merhart/dphpc-project/build/../mpi_malloc_benchmarks/reduce.c\n",
      "Trying to write /home/merhart/dphpc-project/build/../mpi_malloc_benchmarks/reduce.c : /home/merhart/dphpc-project/mpi_malloc_benchmarks/reduce.c\n",
      "../mpi_malloc_benchmarks/reduce.cu(18): warning #177-D: variable \"prod_x\" was declared but never referenced\n",
      "\n",
      "../mpi_malloc_benchmarks/reduce.cu(18): warning #177-D: variable \"prod_y\" was declared but never referenced\n",
      "\n",
      "../mpi_malloc_benchmarks/reduce.cu(18): warning #177-D: variable \"prod_x\" was declared but never referenced\n",
      "\n",
      "../mpi_malloc_benchmarks/reduce.cu(18): warning #177-D: variable \"prod_y\" was declared but never referenced\n",
      "\n",
      "../mpi_malloc_benchmarks/reduce.cu(18): warning #177-D: variable \"prod_x\" was declared but never referenced\n",
      "\n",
      "../mpi_malloc_benchmarks/reduce.cu(18): warning #177-D: variable \"prod_y\" was declared but never referenced\n",
      "\n",
      "nvlink warning : Stack size for entry function '_Z17__gpu_main_calleriPPcPN7CudaMPI11SharedStateENS1_18ThreadPrivateState7ContextE' cannot be statically determined (target: sm_60)\n",
      "nvlink warning : Stack size for entry function '_Z17__gpu_main_calleriPPcPN7CudaMPI11SharedStateENS1_18ThreadPrivateState7ContextE' cannot be statically determined (target: sm_61)\n",
      "nvlink warning : Stack size for entry function '_Z17__gpu_main_calleriPPcPN7CudaMPI11SharedStateENS1_18ThreadPrivateState7ContextE' cannot be statically determined (target: sm_70)\n"
     ]
    },
    {
     "name": "stdout",
     "output_type": "stream",
     "text": [
      "Compiling finished\n"
     ]
    },
    {
     "data": {
      "application/vnd.jupyter.widget-view+json": {
       "model_id": "482ee615bba34bdb9d85515b4e3250ca",
       "version_major": 2,
       "version_minor": 0
      },
      "text/plain": [
       "  0%|          | 0/3 [00:00<?, ?it/s]"
      ]
     },
     "metadata": {},
     "output_type": "display_data"
    },
    {
     "data": {
      "application/vnd.jupyter.widget-view+json": {
       "model_id": "9c88f8bb7e694c88aac4b38fdb95a00f",
       "version_major": 2,
       "version_minor": 0
      },
      "text/plain": [
       "  0%|          | 0/2 [00:00<?, ?it/s]"
      ]
     },
     "metadata": {},
     "output_type": "display_data"
    },
    {
     "data": {
      "application/vnd.jupyter.widget-view+json": {
       "model_id": "c35f8f859fcd40f6889eb2e3b1f4f100",
       "version_major": 2,
       "version_minor": 0
      },
      "text/plain": [
       "  0%|          | 0/9 [00:00<?, ?it/s]"
      ]
     },
     "metadata": {},
     "output_type": "display_data"
    }
   ],
   "source": [
    "# parameters\n",
    "n_runs = 3\n",
    "n_blocks = 192\n",
    "n_threads_per_block = 64\n",
    "n_doubles = 10\n",
    "benchmarks = [\"scalar_product\", \"bcast\", \"reduce\"]\n",
    "malloc_versions = [\"\", \"_coal\"]\n",
    "binaries = [[x+y for y in malloc_versions] for x in benchmarks]\n",
    "\n",
    "\n",
    "plt.rcParams['figure.figsize'] = [40, 10*len(benchmarks)]\n",
    "fig, axs = plt.subplots(len(benchmarks), 4)\n",
    "\n",
    "for b in benchmarks:\n",
    "    compile_benchmark(b, True)\n",
    "    compile_benchmark(b, False)\n",
    "\n",
    "print(\"Compiling finished\")\n",
    "\n",
    "floats = list(range(1, n_doubles))\n",
    "mean_results = []\n",
    "std_results = []\n",
    "\n",
    "for wl in tqdm(binaries):\n",
    "    resm = []\n",
    "    ress = []\n",
    "    for malloc_v in tqdm(wl):\n",
    "        mean_results_tmp = []\n",
    "        std_results_tmp = []\n",
    "        for n_floats_ in tqdm(floats):\n",
    "            mean, std = get_mean_std_individual_workloads(n_blocks, n_threads_per_block,n_runs, n_floats_, malloc_v)\n",
    "            mean_results_tmp.append(mean)\n",
    "            std_results_tmp.append(std)\n",
    "        resm.append([list(x) for x in zip(*mean_results_tmp)])\n",
    "        ress.append([list(x) for x in zip(*std_results_tmp)])\n",
    "    mean_results.append(resm)\n",
    "    std_results.append(ress)\n",
    "\n",
    "fig.suptitle(\"Parameters:\" \\\n",
    "          + \" blocks: \" + str(n_blocks)\\\n",
    "          + \", threads per block: \" + str(n_threads_per_block)\\\n",
    "          + \", floats allocated per thread: \" + str(n_doubles)\\\n",
    "          + \", workload: sum_reduce\"\\\n",
    "          + \", runs runs: \" + str(n_runs)\\\n",
    "          + \", from top to bottom: \" + str(benchmarks))\n",
    "\n",
    "work = [\"Malloc\", \"Work\", \"Free\"]\n",
    "\n",
    "for b in range(len(benchmarks)):\n",
    "    for j in range(len(work)):\n",
    "        axs[b][j].set_title(work[j])\n",
    "        for i in range(len(malloc_versions)):\n",
    "            axs[b][j].errorbar(floats, mean_results[b][i][j], std_results[b][i][j], label=binaries[b][i])\n",
    "        axs[b][j].legend()\n",
    "        axs[b][j].set_xlabel(\"#doubles\")\n",
    "        axs[b][j].set_ylabel(\"seconds\")\n",
    "\n",
    "    axs[b][3].set_title(\"Work speedup\")\n",
    "    axs[b][3].plot(floats, [1 for x in floats], label=\"baseline\")\n",
    "    for j in range(2, len(malloc_versions)):\n",
    "        speedup = np.asarray(mean_results[b][0][1])/np.asarray(mean_results[b][j][1])\n",
    "        axs[b][3].plot(floats, speedup, label=binaries[b][j])\n",
    "        axs[b][3].plot(floats, [np.mean(speedup) for x in floats], label=binaries[b][j]+\" mean\")\n",
    "    axs[b][3].legend()\n",
    "    axs[b][3].set_xlabel(\"#doubles\")\n",
    "    axs[b][3].set_ylabel(\"speedup\")\n",
    "\n",
    "plt.show()\n"
   ]
  },
  {
   "cell_type": "code",
   "execution_count": null,
   "id": "35774cdd",
   "metadata": {},
   "outputs": [],
   "source": []
  }
 ],
 "metadata": {
  "kernelspec": {
   "display_name": "venv-dphpc",
   "language": "python",
   "name": "venv-dphpc"
  },
  "language_info": {
   "codemirror_mode": {
    "name": "ipython",
    "version": 3
   },
   "file_extension": ".py",
   "mimetype": "text/x-python",
   "name": "python",
   "nbconvert_exporter": "python",
   "pygments_lexer": "ipython3",
   "version": "3.9.9"
  }
 },
 "nbformat": 4,
 "nbformat_minor": 5
}
